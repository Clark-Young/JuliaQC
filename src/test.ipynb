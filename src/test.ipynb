{
 "cells": [
  {
   "cell_type": "markdown",
   "metadata": {},
   "source": [
    "Below is the test for evaluating the Boys Function.\n"
   ]
  },
  {
   "cell_type": "code",
   "execution_count": 6,
   "metadata": {},
   "outputs": [
    {
     "name": "stdout",
     "output_type": "stream",
     "text": [
      "Romberg did not converge\n",
      "0.18624994948972604 0.19998558364875405\n"
     ]
    }
   ],
   "source": [
    "using SpecialFunctions\n",
    "\n",
    "\n",
    "function Boys(m::Int64,T::Float64)::Float64 # Boys function, used in the calculation of the electron repulsion integral\n",
    "    return T^(-(m+0.5)) * (gamma(m+0.5) - gamma(m+0.5, T))/2  \n",
    "end\n",
    "\n",
    "\n",
    "\n",
    "# Helper function to sum over an interval with a given step size, used in the Romberg integration\n",
    "function funcSum(func::Function, start::Float64, step::Float64, stop::Float64)::Float64\n",
    "    s = 0.0\n",
    "    x = start\n",
    "    while x <= stop\n",
    "        s += func(x)\n",
    "        x += step\n",
    "    end\n",
    "    return s\n",
    "end\n",
    "\n",
    "\n",
    "# Romberg integration, the function is used to calculate Boys function, when the distance is small, we need to use numerical integration instead of Gamma function.\n",
    "function romberg(a::Float64, b::Float64, M::Int, func::Function, varepsilon::Float64)::Float64\n",
    "    h = b - a\n",
    "    r1 = Vector{Float64}(undef, M)\n",
    "    r2 = similar(r1)\n",
    "\n",
    "    # Initial estimate using trapezoidal rule\n",
    "    r1[1] = (func(a) + func(b)) * h / 2\n",
    "\n",
    "    for k in 1:M-1\n",
    "        h_k = h / 2^k\n",
    "        # Estimate the sum of the function evaluated at new points\n",
    "        sum_a = sum(func, a + h_k/2:h_k:b-h_k)\n",
    "        \n",
    "        # Calculate the next level of Romberg integration\n",
    "        r2[1] = 0.5 * (r1[1] + sum_a * h_k)\n",
    "\n",
    "        for j in 1:k\n",
    "            r2[j+1] = r2[j] + (r2[j] - r1[j]) / (4^j - 1)\n",
    "        end\n",
    "\n",
    "        if abs(r2[k+1] - r1[k]) < varepsilon\n",
    "            return r2[k+1]\n",
    "        end\n",
    "        \n",
    "        # Copy r2 to r1 for the next iteration\n",
    "        copyto!(r1, r2)\n",
    "        if k == M-1\n",
    "            println(\"Romberg did not converge\")\n",
    "        end\n",
    "    end\n",
    "\n",
    "    return r2[end]\n",
    "end\n",
    "\n",
    "\n",
    "function boys_diff(m::Int64, T::Float64,x::Float64)::Float64\n",
    "    return x^(2*m) * exp(-T*x^2)\n",
    "end\n",
    "\n",
    "fix_boys_diff(x::Float64) = boys_diff(2, 0.1, x)\n",
    "\n",
    "println(romberg(0.0, 1.0, 21, fix_boys_diff, 1e-6),\" \",Boys(2, 0.0001))"
   ]
  },
  {
   "cell_type": "code",
   "execution_count": null,
   "metadata": {},
   "outputs": [],
   "source": []
  }
 ],
 "metadata": {
  "kernelspec": {
   "display_name": "Julia 1.11.2",
   "language": "julia",
   "name": "julia-1.11"
  },
  "language_info": {
   "file_extension": ".jl",
   "mimetype": "application/julia",
   "name": "julia",
   "version": "1.11.2"
  }
 },
 "nbformat": 4,
 "nbformat_minor": 2
}
